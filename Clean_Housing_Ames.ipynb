{
 "cells": [
  {
   "cell_type": "markdown",
   "metadata": {},
   "source": [
    "Cleaning the test and train data set from Kaggle (https://www.kaggle.com/c/house-prices-advanced-regression-techniques). As well as some EDA\n",
    "\n",
    "Starting with loading the necessary packages\n"
   ]
  },
  {
   "cell_type": "markdown",
   "metadata": {},
   "source": [
    "**Data Overview**"
   ]
  },
  {
   "cell_type": "code",
   "execution_count": 48,
   "metadata": {},
   "outputs": [],
   "source": [
    "%matplotlib inline\n",
    "import pandas as pd\n",
    "import numpy as np\n",
    "import matplotlib\n",
    "import matplotlib.pyplot as plt\n",
    "import matplotlib.rcsetup as rcsetup\n",
    "import seaborn as sns\n",
    "htrain = pd.read_csv(\"../ML_Project/train.csv\")\n",
    "htest = pd.read_csv(\"../ML_Project/test.csv\")\n",
    "#Machine-Learning-Project"
   ]
  },
  {
   "cell_type": "code",
   "execution_count": 3,
   "metadata": {},
   "outputs": [],
   "source": [
    "#taking a look at the train data\n",
    "htrain.info()"
   ]
  },
  {
   "cell_type": "code",
   "execution_count": null,
   "metadata": {},
   "outputs": [],
   "source": [
    "#taking a look at the test data\n",
    "htest.info()"
   ]
  },
  {
   "cell_type": "code",
   "execution_count": 49,
   "metadata": {},
   "outputs": [
    {
     "name": "stdout",
     "output_type": "stream",
     "text": [
      "(1459, 80)\n"
     ]
    },
    {
     "data": {
      "text/plain": [
       "(1460, 81)"
      ]
     },
     "execution_count": 49,
     "metadata": {},
     "output_type": "execute_result"
    }
   ],
   "source": [
    "#shape of train and test\n",
    "print(htest.shape)\n",
    "htrain.shape"
   ]
  },
  {
   "cell_type": "markdown",
   "metadata": {},
   "source": [
    "**First Visualization**"
   ]
  },
  {
   "cell_type": "code",
   "execution_count": null,
   "metadata": {},
   "outputs": [],
   "source": [
    "#histogram of sale prices shows that we need to normalize SalePricd\n",
    "sns.distplot(htrain['SalePrice']);"
   ]
  },
  {
   "cell_type": "code",
   "execution_count": null,
   "metadata": {},
   "outputs": [],
   "source": [
    "sns.distplot(htrain['SalePrice']);\n",
    "#histogram of sale prices shows that we need to normalize SalePricd"
   ]
  },
  {
   "cell_type": "code",
   "execution_count": 50,
   "metadata": {},
   "outputs": [
    {
     "data": {
      "text/plain": [
       "(1458, 81)"
      ]
     },
     "execution_count": 50,
     "metadata": {},
     "output_type": "execute_result"
    }
   ],
   "source": [
    "htrain = htrain.drop(htrain[(htrain['GrLivArea']>4000) & (htrain['SalePrice']<300000)].index)\n",
    "htrain.shape"
   ]
  },
  {
   "cell_type": "code",
   "execution_count": null,
   "metadata": {},
   "outputs": [],
   "source": [
    "#taking a look at the object features by using a boxplot against the SalePrice\n",
    "obj_cols = htrain.select_dtypes(include = \"object\")\n",
    "\n",
    "fig, axes = plt.subplots(ncols=3, nrows= 15,figsize=(22,60))\n",
    "\n",
    "for i, c in enumerate(obj_cols):\n",
    "    row = i // 3\n",
    "    col = i % 3\n",
    "    ax_curr = axes[row, col]\n",
    "    order = htrain.groupby(c)['SalePrice'].mean().fillna(0).sort_values()[::-1].index\n",
    "    sns.boxplot(x=htrain[c], y=htrain['SalePrice'], ax = ax_curr, order=order)\n",
    "plt.show()"
   ]
  },
  {
   "cell_type": "code",
   "execution_count": null,
   "metadata": {},
   "outputs": [],
   "source": [
    "#taking a look at numeric features by using a scatterplot against the SalePrice\n",
    "num_cols = htrain._get_numeric_data()\n",
    "\n",
    "fig, axes = plt.subplots(ncols=3, nrows= 13,figsize=(22,60))\n",
    "\n",
    "for i, c in enumerate(num_cols):\n",
    "    row = i // 3\n",
    "    col = i % 3\n",
    "    ax_curr = axes[row, col]\n",
    "    sns.regplot(x=htrain[c], y=htrain['SalePrice'], ax = ax_curr)\n",
    "plt.show()\n"
   ]
  },
  {
   "cell_type": "code",
   "execution_count": null,
   "metadata": {},
   "outputs": [],
   "source": [
    "#finally plot a scatterplotmatrix of all numeric features to discover correlation\n",
    "num_cols = htrain._get_numeric_data()\n",
    "sns.pairplot(num_cols.dropna())\n",
    "sns.plt.show()"
   ]
  },
  {
   "cell_type": "code",
   "execution_count": null,
   "metadata": {},
   "outputs": [],
   "source": [
    "#correlation matrix of all numeric features\n",
    "corr = House_trainNew.corr()\n",
    "sns.heatmap(corr, \n",
    "            xticklabels=corr.columns.values,\n",
    "            yticklabels=corr.columns.values,\n",
    "           cmap=\"YlGnBu\")"
   ]
  },
  {
   "cell_type": "markdown",
   "metadata": {},
   "source": [
    "**Starting the Cleaning Process**"
   ]
  },
  {
   "cell_type": "code",
   "execution_count": 78,
   "metadata": {},
   "outputs": [
    {
     "name": "stdout",
     "output_type": "stream",
     "text": [
      "all_data size is : (2917, 80)\n"
     ]
    },
    {
     "data": {
      "text/plain": [
       "1458"
      ]
     },
     "execution_count": 78,
     "metadata": {},
     "output_type": "execute_result"
    }
   ],
   "source": [
    "#saving SalePrice from htrain as y_train. \n",
    "#dropping Saleprice data to combine test and train to clean both in the same way.\n",
    "#new data frame : all_data#looking at missing values in data \n",
    "ntrain = htrain.shape[0]\n",
    "ntest = htest.shape[0]\n",
    "y_train = htrain.SalePrice.values\n",
    "all_data = pd.concat((htrain, htest)).reset_index(drop=True)\n",
    "all_data.drop(['SalePrice'], axis=1, inplace=True)\n",
    "print(\"all_data size is : {}\".format(all_data.shape))\n",
    "all_data.head()\n",
    "ntrain"
   ]
  },
  {
   "cell_type": "code",
   "execution_count": 52,
   "metadata": {},
   "outputs": [
    {
     "data": {
      "text/html": [
       "<div>\n",
       "<style scoped>\n",
       "    .dataframe tbody tr th:only-of-type {\n",
       "        vertical-align: middle;\n",
       "    }\n",
       "\n",
       "    .dataframe tbody tr th {\n",
       "        vertical-align: top;\n",
       "    }\n",
       "\n",
       "    .dataframe thead th {\n",
       "        text-align: right;\n",
       "    }\n",
       "</style>\n",
       "<table border=\"1\" class=\"dataframe\">\n",
       "  <thead>\n",
       "    <tr style=\"text-align: right;\">\n",
       "      <th></th>\n",
       "      <th>0</th>\n",
       "    </tr>\n",
       "  </thead>\n",
       "  <tbody>\n",
       "    <tr>\n",
       "      <th>PoolQC</th>\n",
       "      <td>2908</td>\n",
       "    </tr>\n",
       "    <tr>\n",
       "      <th>MiscFeature</th>\n",
       "      <td>2812</td>\n",
       "    </tr>\n",
       "    <tr>\n",
       "      <th>Alley</th>\n",
       "      <td>2719</td>\n",
       "    </tr>\n",
       "    <tr>\n",
       "      <th>Fence</th>\n",
       "      <td>2346</td>\n",
       "    </tr>\n",
       "    <tr>\n",
       "      <th>FireplaceQu</th>\n",
       "      <td>1420</td>\n",
       "    </tr>\n",
       "    <tr>\n",
       "      <th>LotFrontage</th>\n",
       "      <td>486</td>\n",
       "    </tr>\n",
       "    <tr>\n",
       "      <th>GarageQual</th>\n",
       "      <td>159</td>\n",
       "    </tr>\n",
       "    <tr>\n",
       "      <th>GarageFinish</th>\n",
       "      <td>159</td>\n",
       "    </tr>\n",
       "    <tr>\n",
       "      <th>GarageYrBlt</th>\n",
       "      <td>159</td>\n",
       "    </tr>\n",
       "    <tr>\n",
       "      <th>GarageCond</th>\n",
       "      <td>159</td>\n",
       "    </tr>\n",
       "    <tr>\n",
       "      <th>GarageType</th>\n",
       "      <td>157</td>\n",
       "    </tr>\n",
       "    <tr>\n",
       "      <th>BsmtCond</th>\n",
       "      <td>82</td>\n",
       "    </tr>\n",
       "    <tr>\n",
       "      <th>BsmtExposure</th>\n",
       "      <td>82</td>\n",
       "    </tr>\n",
       "    <tr>\n",
       "      <th>BsmtQual</th>\n",
       "      <td>81</td>\n",
       "    </tr>\n",
       "    <tr>\n",
       "      <th>BsmtFinType2</th>\n",
       "      <td>80</td>\n",
       "    </tr>\n",
       "    <tr>\n",
       "      <th>BsmtFinType1</th>\n",
       "      <td>79</td>\n",
       "    </tr>\n",
       "    <tr>\n",
       "      <th>MasVnrType</th>\n",
       "      <td>24</td>\n",
       "    </tr>\n",
       "    <tr>\n",
       "      <th>MasVnrArea</th>\n",
       "      <td>23</td>\n",
       "    </tr>\n",
       "    <tr>\n",
       "      <th>MSZoning</th>\n",
       "      <td>4</td>\n",
       "    </tr>\n",
       "    <tr>\n",
       "      <th>BsmtFullBath</th>\n",
       "      <td>2</td>\n",
       "    </tr>\n",
       "    <tr>\n",
       "      <th>BsmtHalfBath</th>\n",
       "      <td>2</td>\n",
       "    </tr>\n",
       "    <tr>\n",
       "      <th>Utilities</th>\n",
       "      <td>2</td>\n",
       "    </tr>\n",
       "    <tr>\n",
       "      <th>Functional</th>\n",
       "      <td>2</td>\n",
       "    </tr>\n",
       "    <tr>\n",
       "      <th>Electrical</th>\n",
       "      <td>1</td>\n",
       "    </tr>\n",
       "    <tr>\n",
       "      <th>Exterior2nd</th>\n",
       "      <td>1</td>\n",
       "    </tr>\n",
       "    <tr>\n",
       "      <th>KitchenQual</th>\n",
       "      <td>1</td>\n",
       "    </tr>\n",
       "    <tr>\n",
       "      <th>Exterior1st</th>\n",
       "      <td>1</td>\n",
       "    </tr>\n",
       "    <tr>\n",
       "      <th>GarageCars</th>\n",
       "      <td>1</td>\n",
       "    </tr>\n",
       "    <tr>\n",
       "      <th>TotalBsmtSF</th>\n",
       "      <td>1</td>\n",
       "    </tr>\n",
       "    <tr>\n",
       "      <th>GarageArea</th>\n",
       "      <td>1</td>\n",
       "    </tr>\n",
       "    <tr>\n",
       "      <th>BsmtUnfSF</th>\n",
       "      <td>1</td>\n",
       "    </tr>\n",
       "    <tr>\n",
       "      <th>BsmtFinSF2</th>\n",
       "      <td>1</td>\n",
       "    </tr>\n",
       "    <tr>\n",
       "      <th>BsmtFinSF1</th>\n",
       "      <td>1</td>\n",
       "    </tr>\n",
       "    <tr>\n",
       "      <th>SaleType</th>\n",
       "      <td>1</td>\n",
       "    </tr>\n",
       "  </tbody>\n",
       "</table>\n",
       "</div>"
      ],
      "text/plain": [
       "                 0\n",
       "PoolQC        2908\n",
       "MiscFeature   2812\n",
       "Alley         2719\n",
       "Fence         2346\n",
       "FireplaceQu   1420\n",
       "LotFrontage    486\n",
       "GarageQual     159\n",
       "GarageFinish   159\n",
       "GarageYrBlt    159\n",
       "GarageCond     159\n",
       "GarageType     157\n",
       "BsmtCond        82\n",
       "BsmtExposure    82\n",
       "BsmtQual        81\n",
       "BsmtFinType2    80\n",
       "BsmtFinType1    79\n",
       "MasVnrType      24\n",
       "MasVnrArea      23\n",
       "MSZoning         4\n",
       "BsmtFullBath     2\n",
       "BsmtHalfBath     2\n",
       "Utilities        2\n",
       "Functional       2\n",
       "Electrical       1\n",
       "Exterior2nd      1\n",
       "KitchenQual      1\n",
       "Exterior1st      1\n",
       "GarageCars       1\n",
       "TotalBsmtSF      1\n",
       "GarageArea       1\n",
       "BsmtUnfSF        1\n",
       "BsmtFinSF2       1\n",
       "BsmtFinSF1       1\n",
       "SaleType         1"
      ]
     },
     "execution_count": 52,
     "metadata": {},
     "output_type": "execute_result"
    }
   ],
   "source": [
    "#looking at missing values in all_data \n",
    "missing = pd.DataFrame(all_data.isnull().sum().sort_values(ascending=False))\n",
    "missing[missing[0]!=0]"
   ]
  },
  {
   "cell_type": "code",
   "execution_count": null,
   "metadata": {},
   "outputs": [],
   "source": []
  },
  {
   "cell_type": "markdown",
   "metadata": {},
   "source": [
    "Changing NA's to their actual value None"
   ]
  },
  {
   "cell_type": "code",
   "execution_count": 53,
   "metadata": {},
   "outputs": [
    {
     "name": "stdout",
     "output_type": "stream",
     "text": [
      "all_data size is : (2917, 80)\n"
     ]
    },
    {
     "data": {
      "text/html": [
       "<div>\n",
       "<style scoped>\n",
       "    .dataframe tbody tr th:only-of-type {\n",
       "        vertical-align: middle;\n",
       "    }\n",
       "\n",
       "    .dataframe tbody tr th {\n",
       "        vertical-align: top;\n",
       "    }\n",
       "\n",
       "    .dataframe thead th {\n",
       "        text-align: right;\n",
       "    }\n",
       "</style>\n",
       "<table border=\"1\" class=\"dataframe\">\n",
       "  <thead>\n",
       "    <tr style=\"text-align: right;\">\n",
       "      <th></th>\n",
       "      <th>1stFlrSF</th>\n",
       "      <th>2ndFlrSF</th>\n",
       "      <th>3SsnPorch</th>\n",
       "      <th>Alley</th>\n",
       "      <th>BedroomAbvGr</th>\n",
       "      <th>BldgType</th>\n",
       "      <th>BsmtCond</th>\n",
       "      <th>BsmtExposure</th>\n",
       "      <th>BsmtFinSF1</th>\n",
       "      <th>BsmtFinSF2</th>\n",
       "      <th>...</th>\n",
       "      <th>SaleType</th>\n",
       "      <th>ScreenPorch</th>\n",
       "      <th>Street</th>\n",
       "      <th>TotRmsAbvGrd</th>\n",
       "      <th>TotalBsmtSF</th>\n",
       "      <th>Utilities</th>\n",
       "      <th>WoodDeckSF</th>\n",
       "      <th>YearBuilt</th>\n",
       "      <th>YearRemodAdd</th>\n",
       "      <th>YrSold</th>\n",
       "    </tr>\n",
       "  </thead>\n",
       "  <tbody>\n",
       "    <tr>\n",
       "      <th>0</th>\n",
       "      <td>856</td>\n",
       "      <td>854</td>\n",
       "      <td>0</td>\n",
       "      <td>None</td>\n",
       "      <td>3</td>\n",
       "      <td>1Fam</td>\n",
       "      <td>TA</td>\n",
       "      <td>No</td>\n",
       "      <td>706.0</td>\n",
       "      <td>0.0</td>\n",
       "      <td>...</td>\n",
       "      <td>WD</td>\n",
       "      <td>0</td>\n",
       "      <td>Pave</td>\n",
       "      <td>8</td>\n",
       "      <td>856.0</td>\n",
       "      <td>AllPub</td>\n",
       "      <td>0</td>\n",
       "      <td>2003</td>\n",
       "      <td>2003</td>\n",
       "      <td>2008</td>\n",
       "    </tr>\n",
       "    <tr>\n",
       "      <th>1</th>\n",
       "      <td>1262</td>\n",
       "      <td>0</td>\n",
       "      <td>0</td>\n",
       "      <td>None</td>\n",
       "      <td>3</td>\n",
       "      <td>1Fam</td>\n",
       "      <td>TA</td>\n",
       "      <td>Gd</td>\n",
       "      <td>978.0</td>\n",
       "      <td>0.0</td>\n",
       "      <td>...</td>\n",
       "      <td>WD</td>\n",
       "      <td>0</td>\n",
       "      <td>Pave</td>\n",
       "      <td>6</td>\n",
       "      <td>1262.0</td>\n",
       "      <td>AllPub</td>\n",
       "      <td>298</td>\n",
       "      <td>1976</td>\n",
       "      <td>1976</td>\n",
       "      <td>2007</td>\n",
       "    </tr>\n",
       "    <tr>\n",
       "      <th>2</th>\n",
       "      <td>920</td>\n",
       "      <td>866</td>\n",
       "      <td>0</td>\n",
       "      <td>None</td>\n",
       "      <td>3</td>\n",
       "      <td>1Fam</td>\n",
       "      <td>TA</td>\n",
       "      <td>Mn</td>\n",
       "      <td>486.0</td>\n",
       "      <td>0.0</td>\n",
       "      <td>...</td>\n",
       "      <td>WD</td>\n",
       "      <td>0</td>\n",
       "      <td>Pave</td>\n",
       "      <td>6</td>\n",
       "      <td>920.0</td>\n",
       "      <td>AllPub</td>\n",
       "      <td>0</td>\n",
       "      <td>2001</td>\n",
       "      <td>2002</td>\n",
       "      <td>2008</td>\n",
       "    </tr>\n",
       "    <tr>\n",
       "      <th>3</th>\n",
       "      <td>961</td>\n",
       "      <td>756</td>\n",
       "      <td>0</td>\n",
       "      <td>None</td>\n",
       "      <td>3</td>\n",
       "      <td>1Fam</td>\n",
       "      <td>Gd</td>\n",
       "      <td>No</td>\n",
       "      <td>216.0</td>\n",
       "      <td>0.0</td>\n",
       "      <td>...</td>\n",
       "      <td>WD</td>\n",
       "      <td>0</td>\n",
       "      <td>Pave</td>\n",
       "      <td>7</td>\n",
       "      <td>756.0</td>\n",
       "      <td>AllPub</td>\n",
       "      <td>0</td>\n",
       "      <td>1915</td>\n",
       "      <td>1970</td>\n",
       "      <td>2006</td>\n",
       "    </tr>\n",
       "    <tr>\n",
       "      <th>4</th>\n",
       "      <td>1145</td>\n",
       "      <td>1053</td>\n",
       "      <td>0</td>\n",
       "      <td>None</td>\n",
       "      <td>4</td>\n",
       "      <td>1Fam</td>\n",
       "      <td>TA</td>\n",
       "      <td>Av</td>\n",
       "      <td>655.0</td>\n",
       "      <td>0.0</td>\n",
       "      <td>...</td>\n",
       "      <td>WD</td>\n",
       "      <td>0</td>\n",
       "      <td>Pave</td>\n",
       "      <td>9</td>\n",
       "      <td>1145.0</td>\n",
       "      <td>AllPub</td>\n",
       "      <td>192</td>\n",
       "      <td>2000</td>\n",
       "      <td>2000</td>\n",
       "      <td>2008</td>\n",
       "    </tr>\n",
       "  </tbody>\n",
       "</table>\n",
       "<p>5 rows × 80 columns</p>\n",
       "</div>"
      ],
      "text/plain": [
       "   1stFlrSF  2ndFlrSF  3SsnPorch Alley  BedroomAbvGr BldgType BsmtCond  \\\n",
       "0       856       854          0  None             3     1Fam       TA   \n",
       "1      1262         0          0  None             3     1Fam       TA   \n",
       "2       920       866          0  None             3     1Fam       TA   \n",
       "3       961       756          0  None             3     1Fam       Gd   \n",
       "4      1145      1053          0  None             4     1Fam       TA   \n",
       "\n",
       "  BsmtExposure  BsmtFinSF1  BsmtFinSF2  ...   SaleType ScreenPorch  Street  \\\n",
       "0           No       706.0         0.0  ...         WD           0    Pave   \n",
       "1           Gd       978.0         0.0  ...         WD           0    Pave   \n",
       "2           Mn       486.0         0.0  ...         WD           0    Pave   \n",
       "3           No       216.0         0.0  ...         WD           0    Pave   \n",
       "4           Av       655.0         0.0  ...         WD           0    Pave   \n",
       "\n",
       "   TotRmsAbvGrd TotalBsmtSF  Utilities WoodDeckSF YearBuilt YearRemodAdd  \\\n",
       "0             8       856.0     AllPub          0      2003         2003   \n",
       "1             6      1262.0     AllPub        298      1976         1976   \n",
       "2             6       920.0     AllPub          0      2001         2002   \n",
       "3             7       756.0     AllPub          0      1915         1970   \n",
       "4             9      1145.0     AllPub        192      2000         2000   \n",
       "\n",
       "  YrSold  \n",
       "0   2008  \n",
       "1   2007  \n",
       "2   2008  \n",
       "3   2006  \n",
       "4   2008  \n",
       "\n",
       "[5 rows x 80 columns]"
      ]
     },
     "execution_count": 53,
     "metadata": {},
     "output_type": "execute_result"
    }
   ],
   "source": [
    "#fill categorical variables that have Na as category\n",
    "#we know that NA here is no missing data but an actual feature -> description of the data available on Kaggle\n",
    "col_missings = [\"Alley\", \"BsmtQual\",\"BsmtCond\",\"BsmtExposure\",\"BsmtFinType1\", \n",
    "\"BsmtFinType2\", \"FireplaceQu\", \"GarageType\",\"GarageFinish\",\"GarageQual\",\n",
    "\"GarageCond\", \"PoolQC\", \"Fence\",\"MiscFeature\"]\n",
    "all_data[col_missings] = all_data[col_missings].fillna(value = \"None\")\n",
    "print(\"all_data size is : {}\".format(all_data.shape))\n",
    "all_data.head()"
   ]
  },
  {
   "cell_type": "code",
   "execution_count": 54,
   "metadata": {},
   "outputs": [
    {
     "data": {
      "text/html": [
       "<div>\n",
       "<style scoped>\n",
       "    .dataframe tbody tr th:only-of-type {\n",
       "        vertical-align: middle;\n",
       "    }\n",
       "\n",
       "    .dataframe tbody tr th {\n",
       "        vertical-align: top;\n",
       "    }\n",
       "\n",
       "    .dataframe thead th {\n",
       "        text-align: right;\n",
       "    }\n",
       "</style>\n",
       "<table border=\"1\" class=\"dataframe\">\n",
       "  <thead>\n",
       "    <tr style=\"text-align: right;\">\n",
       "      <th></th>\n",
       "      <th>0</th>\n",
       "    </tr>\n",
       "  </thead>\n",
       "  <tbody>\n",
       "    <tr>\n",
       "      <th>LotFrontage</th>\n",
       "      <td>486</td>\n",
       "    </tr>\n",
       "    <tr>\n",
       "      <th>GarageYrBlt</th>\n",
       "      <td>159</td>\n",
       "    </tr>\n",
       "    <tr>\n",
       "      <th>MasVnrType</th>\n",
       "      <td>24</td>\n",
       "    </tr>\n",
       "    <tr>\n",
       "      <th>MasVnrArea</th>\n",
       "      <td>23</td>\n",
       "    </tr>\n",
       "    <tr>\n",
       "      <th>MSZoning</th>\n",
       "      <td>4</td>\n",
       "    </tr>\n",
       "    <tr>\n",
       "      <th>Functional</th>\n",
       "      <td>2</td>\n",
       "    </tr>\n",
       "    <tr>\n",
       "      <th>Utilities</th>\n",
       "      <td>2</td>\n",
       "    </tr>\n",
       "    <tr>\n",
       "      <th>BsmtFullBath</th>\n",
       "      <td>2</td>\n",
       "    </tr>\n",
       "    <tr>\n",
       "      <th>BsmtHalfBath</th>\n",
       "      <td>2</td>\n",
       "    </tr>\n",
       "    <tr>\n",
       "      <th>TotalBsmtSF</th>\n",
       "      <td>1</td>\n",
       "    </tr>\n",
       "    <tr>\n",
       "      <th>GarageArea</th>\n",
       "      <td>1</td>\n",
       "    </tr>\n",
       "    <tr>\n",
       "      <th>Electrical</th>\n",
       "      <td>1</td>\n",
       "    </tr>\n",
       "    <tr>\n",
       "      <th>SaleType</th>\n",
       "      <td>1</td>\n",
       "    </tr>\n",
       "    <tr>\n",
       "      <th>Exterior1st</th>\n",
       "      <td>1</td>\n",
       "    </tr>\n",
       "    <tr>\n",
       "      <th>BsmtFinSF1</th>\n",
       "      <td>1</td>\n",
       "    </tr>\n",
       "    <tr>\n",
       "      <th>BsmtFinSF2</th>\n",
       "      <td>1</td>\n",
       "    </tr>\n",
       "    <tr>\n",
       "      <th>GarageCars</th>\n",
       "      <td>1</td>\n",
       "    </tr>\n",
       "    <tr>\n",
       "      <th>KitchenQual</th>\n",
       "      <td>1</td>\n",
       "    </tr>\n",
       "    <tr>\n",
       "      <th>BsmtUnfSF</th>\n",
       "      <td>1</td>\n",
       "    </tr>\n",
       "    <tr>\n",
       "      <th>Exterior2nd</th>\n",
       "      <td>1</td>\n",
       "    </tr>\n",
       "  </tbody>\n",
       "</table>\n",
       "</div>"
      ],
      "text/plain": [
       "                0\n",
       "LotFrontage   486\n",
       "GarageYrBlt   159\n",
       "MasVnrType     24\n",
       "MasVnrArea     23\n",
       "MSZoning        4\n",
       "Functional      2\n",
       "Utilities       2\n",
       "BsmtFullBath    2\n",
       "BsmtHalfBath    2\n",
       "TotalBsmtSF     1\n",
       "GarageArea      1\n",
       "Electrical      1\n",
       "SaleType        1\n",
       "Exterior1st     1\n",
       "BsmtFinSF1      1\n",
       "BsmtFinSF2      1\n",
       "GarageCars      1\n",
       "KitchenQual     1\n",
       "BsmtUnfSF       1\n",
       "Exterior2nd     1"
      ]
     },
     "execution_count": 54,
     "metadata": {},
     "output_type": "execute_result"
    }
   ],
   "source": [
    "#check missing data after imputing \"NA\" as None\n",
    "missing = pd.DataFrame(all_data.isnull().sum().sort_values(ascending=False))\n",
    "missing[missing[0]!=0]"
   ]
  },
  {
   "cell_type": "code",
   "execution_count": 55,
   "metadata": {},
   "outputs": [
    {
     "data": {
      "text/plain": [
       "(2917, 70)"
      ]
     },
     "execution_count": 55,
     "metadata": {},
     "output_type": "execute_result"
    }
   ],
   "source": [
    "#near zero; deleting features that have zero or near to zero impact on SalePrice\n",
    "all_data = all_data.drop([\"Street\",\"3SsnPorch\",\"Id\", \"Utilities\",\"Condition2\", \"RoofMatl\", \"PoolQC\",\"LowQualFinSF\", \"PoolArea\", \"MiscVal\"],axis=1)\n",
    "all_data.shape"
   ]
  },
  {
   "cell_type": "code",
   "execution_count": 56,
   "metadata": {},
   "outputs": [],
   "source": [
    "all_data['MSZoning'] = all_data['MSZoning'].fillna(all_data['MSZoning'].mode()[0])"
   ]
  },
  {
   "cell_type": "code",
   "execution_count": 57,
   "metadata": {},
   "outputs": [
    {
     "data": {
      "text/plain": [
       "(2917, 70)"
      ]
     },
     "execution_count": 57,
     "metadata": {},
     "output_type": "execute_result"
    }
   ],
   "source": [
    "#fill in missing value for GarageYr\n",
    "all_data['GarageYrBlt'] = all_data['GarageYrBlt'].fillna(0)\n",
    "all_data.loc[all_data['GarageYrBlt']>0, 'GarageYrBlt']=all_data['GarageYrBlt']-all_data['YearBuilt']\n",
    "all_data.shape"
   ]
  },
  {
   "cell_type": "code",
   "execution_count": 58,
   "metadata": {},
   "outputs": [],
   "source": [
    "all_data.loc[all_data['GarageYrBlt']==2207,'GarageYrBlt']=2007"
   ]
  },
  {
   "cell_type": "code",
   "execution_count": 59,
   "metadata": {},
   "outputs": [],
   "source": [
    "all_data[\"MasVnrType\"] = all_data[\"MasVnrType\"].fillna(\"None\")\n",
    "all_data[\"MasVnrArea\"] = all_data[\"MasVnrArea\"].fillna(0)"
   ]
  },
  {
   "cell_type": "code",
   "execution_count": 60,
   "metadata": {},
   "outputs": [],
   "source": [
    "for col in ('BsmtUnfSF','TotalBsmtSF', 'BsmtFullBath', 'BsmtHalfBath','BsmtFinSF1', 'BsmtFinSF2'):\n",
    "    all_data[col] = all_data[col].fillna(0)"
   ]
  },
  {
   "cell_type": "code",
   "execution_count": 61,
   "metadata": {},
   "outputs": [],
   "source": [
    "for col in ('GarageArea', 'GarageCars'):\n",
    "    all_data[col] = all_data[col].fillna(0)"
   ]
  },
  {
   "cell_type": "code",
   "execution_count": 62,
   "metadata": {},
   "outputs": [],
   "source": [
    "all_data[\"Functional\"] = all_data[\"Functional\"].fillna(\"Typ\")"
   ]
  },
  {
   "cell_type": "code",
   "execution_count": 63,
   "metadata": {},
   "outputs": [],
   "source": [
    "#filling missing data with most commen value\n",
    "for col in ('Exterior1st', 'Exterior2nd', 'Electrical', 'KitchenQual', 'SaleType'):\n",
    "    all_data[col] = all_data[col].fillna(all_data[col].mode()[0])\n",
    "\n",
    "#all_data[] = all_data['Exterior1st'].fillna(all_data['Exterior1st'].mode()[0])\n",
    "#all_data[] = all_data['Exterior2nd'].fillna(all_data['Exterior2nd'].mode()[0])\n",
    "#all_data[] = all_data['Electrical'].fillna(all_data['Electrical'].mode()[0])\n",
    "#all_data[] = all_data['KitchenQual'].fillna(all_data['KitchenQual'].mode()[0])\n",
    "#all_data[] = all_data['SaleType'].fillna(all_data['SaleType'].mode()[0])"
   ]
  },
  {
   "cell_type": "code",
   "execution_count": 64,
   "metadata": {},
   "outputs": [
    {
     "data": {
      "text/html": [
       "<div>\n",
       "<style scoped>\n",
       "    .dataframe tbody tr th:only-of-type {\n",
       "        vertical-align: middle;\n",
       "    }\n",
       "\n",
       "    .dataframe tbody tr th {\n",
       "        vertical-align: top;\n",
       "    }\n",
       "\n",
       "    .dataframe thead th {\n",
       "        text-align: right;\n",
       "    }\n",
       "</style>\n",
       "<table border=\"1\" class=\"dataframe\">\n",
       "  <thead>\n",
       "    <tr style=\"text-align: right;\">\n",
       "      <th></th>\n",
       "      <th>0</th>\n",
       "    </tr>\n",
       "  </thead>\n",
       "  <tbody>\n",
       "    <tr>\n",
       "      <th>LotFrontage</th>\n",
       "      <td>486</td>\n",
       "    </tr>\n",
       "  </tbody>\n",
       "</table>\n",
       "</div>"
      ],
      "text/plain": [
       "               0\n",
       "LotFrontage  486"
      ]
     },
     "execution_count": 64,
     "metadata": {},
     "output_type": "execute_result"
    }
   ],
   "source": [
    "#check missing data after imputing \"NA\" as None\n",
    "missing = pd.DataFrame(all_data.isnull().sum().sort_values(ascending=False))\n",
    "missing[missing[0]!=0]"
   ]
  },
  {
   "cell_type": "code",
   "execution_count": null,
   "metadata": {},
   "outputs": [],
   "source": [
    "#alternative to knn. grouping by neighborhood. same neighborhood similar lotfrontage.\n",
    "\n",
    "#all_data[\"LotFrontage\"] = all_data.groupby(\"Neighborhood\")[\"LotFrontage\"].transform(lambda x: x.fillna(x.median()))"
   ]
  },
  {
   "cell_type": "markdown",
   "metadata": {},
   "source": [
    "Convert Quality Data into categorical numbers"
   ]
  },
  {
   "cell_type": "code",
   "execution_count": 65,
   "metadata": {},
   "outputs": [],
   "source": [
    "clean_data=all_data.copy()"
   ]
  },
  {
   "cell_type": "code",
   "execution_count": 66,
   "metadata": {},
   "outputs": [
    {
     "data": {
      "text/plain": [
       "(2917, 70)"
      ]
     },
     "execution_count": 66,
     "metadata": {},
     "output_type": "execute_result"
    }
   ],
   "source": [
    "#convert categorical ordinal columns\n",
    "col_ordinal = clean_data[['ExterQual', 'ExterCond', 'BsmtQual',\"BsmtCond\",\n",
    "           \"BsmtExposure\", \"HeatingQC\",\n",
    "          \"KitchenQual\", \"FireplaceQu\", \"GarageType\",\"GarageQual\",\n",
    "          \"GarageCond\"]]\n",
    "\n",
    "ord_dic1 = {'Ex': 5, 'Gd': 4, 'TA': 3, 'Fa':2, 'Po':1,'None':0}\n",
    "for col in col_ordinal:\n",
    "    clean_data[col] = clean_data[col].map(lambda x: ord_dic1.get(x, 0))\n",
    "\n",
    "#fix LotShape\n",
    "ord_dic2 = {'Reg': 4, 'IR1': 3, 'IR2':2, 'IR3':1}\n",
    "clean_data.LotShape = clean_data.LotShape.map(lambda x: ord_dic2.get(x, 0))\n",
    "\n",
    "#fix BsmntExposure\n",
    "ord_dic3 = {\"Gd\":4 ,'Av':3, 'Mn':2, 'No':1, 'None':0}\n",
    "clean_data.BsmtExposure = clean_data.BsmtExposure.map(lambda x: ord_dic3.get(x, 0))\n",
    "\n",
    "#fix GarageFinish\n",
    "ord_dic4 = {'Fin':3,'RFn':2,'Unf':1,'None':0}\n",
    "clean_data.GarageFinish = clean_data.GarageFinish.map(lambda x: ord_dic4.get(x, 0))\n",
    "\n",
    "#fix Paved\n",
    "ord_dic5 ={'Y':3,'P':2,\"N\":1}\n",
    "clean_data.PavedDrive = clean_data.PavedDrive.map(lambda x: ord_dic5.get(x, 0))\n",
    "\n",
    "\n",
    "#fix Electrical\n",
    "ord_dic6={'SBrkr':5,'FuseA':4,'FuseF':3,'FuseP':2,'Mix':1}\n",
    "clean_data.Electrical = clean_data.Electrical.map(lambda x: ord_dic6.get(x, 0))\n",
    "\n",
    "#fix BsmntFinType1\n",
    "ord_dic7 = {\"GLQ\": 6, \"ALQ\":5, \"BLQ\":4, \"Rec\":3, \"LwQ\":2, \"Unf\":1, \"None\":0}\n",
    "clean_data.BsmtFinType1 = clean_data.BsmtFinType1.map(lambda x: ord_dic7.get(x, 0))\n",
    "\n",
    "#fix Fence\n",
    "ord_dic8={'GdPrv':4,'MnPrv':3,'GdWo':2,'MnWw':1,'None':0}\n",
    "clean_data.Fence = clean_data.Fence.map(lambda x: ord_dic8.get(x, 0))\n",
    "\n",
    "#fix Functional\n",
    "ord_dic9={\"Typ\":8 ,\"Min1\":7 , \"Min2\": 6, \"Mod\": 5, \"Maj1\":4 , \"Maj2\": 3, \"Sev\": 2, \"Sal\":1 }\n",
    "clean_data.Functional = clean_data.Functional.map(lambda x: ord_dic9.get(x, 0))\n",
    "clean_data.shape"
   ]
  },
  {
   "cell_type": "code",
   "execution_count": 67,
   "metadata": {},
   "outputs": [
    {
     "data": {
      "text/plain": [
       "(2917, 70)"
      ]
     },
     "execution_count": 67,
     "metadata": {},
     "output_type": "execute_result"
    }
   ],
   "source": [
    "clean_data.shape"
   ]
  },
  {
   "cell_type": "code",
   "execution_count": 68,
   "metadata": {},
   "outputs": [
    {
     "name": "stdout",
     "output_type": "stream",
     "text": [
      "['Alley' 'BldgType' 'BsmtFinType2' 'CentralAir' 'Condition1' 'Exterior1st'\n",
      " 'Exterior2nd' 'Foundation' 'Heating' 'HouseStyle' 'LandContour'\n",
      " 'LandSlope' 'LotConfig' 'MSZoning' 'MasVnrType' 'MiscFeature'\n",
      " 'Neighborhood' 'RoofStyle' 'SaleCondition' 'SaleType']\n",
      "['1stFlrSF' '2ndFlrSF' 'BedroomAbvGr' 'BsmtCond' 'BsmtExposure'\n",
      " 'BsmtFinSF1' 'BsmtFinSF2' 'BsmtFinType1' 'BsmtFullBath' 'BsmtHalfBath'\n",
      " 'BsmtQual' 'BsmtUnfSF' 'Electrical' 'EnclosedPorch' 'ExterCond'\n",
      " 'ExterQual' 'Fence' 'FireplaceQu' 'Fireplaces' 'FullBath' 'Functional'\n",
      " 'GarageArea' 'GarageCars' 'GarageCond' 'GarageFinish' 'GarageQual'\n",
      " 'GarageType' 'GarageYrBlt' 'GrLivArea' 'HalfBath' 'HeatingQC'\n",
      " 'KitchenAbvGr' 'KitchenQual' 'LotArea' 'LotFrontage' 'LotShape'\n",
      " 'MSSubClass' 'MasVnrArea' 'MoSold' 'OpenPorchSF' 'OverallCond'\n",
      " 'OverallQual' 'PavedDrive' 'ScreenPorch' 'TotRmsAbvGrd' 'TotalBsmtSF'\n",
      " 'WoodDeckSF' 'YearBuilt' 'YearRemodAdd' 'YrSold']\n"
     ]
    }
   ],
   "source": [
    "print(clean_data.loc[:, clean_data.dtypes == object].columns.values)\n",
    "\n",
    "print(clean_data.loc[:, clean_data.dtypes != object].columns.values)"
   ]
  },
  {
   "cell_type": "code",
   "execution_count": 69,
   "metadata": {},
   "outputs": [
    {
     "data": {
      "text/plain": [
       "Series([], dtype: bool)"
      ]
     },
     "execution_count": 69,
     "metadata": {},
     "output_type": "execute_result"
    }
   ],
   "source": [
    "#main goal is to get the overall SF of each house. \n",
    "#add all Basement's SF to get new SF and match with existing  TotalBsmtSF\n",
    "\n",
    "x=[]\n",
    "clean_data['TotalBsmtSF_new'] = clean_data['BsmtFinSF1'] + clean_data['BsmtFinSF2'] + clean_data['BsmtUnfSF']\n",
    "x=(clean_data['TotalBsmtSF_new'] != clean_data['TotalBsmtSF'])\n",
    "\n",
    "x[x==True]"
   ]
  },
  {
   "cell_type": "code",
   "execution_count": 70,
   "metadata": {},
   "outputs": [],
   "source": [
    "#as only one differs that too in test, we delete the redundant basement columns and new column\n",
    "clean_data.drop(['BsmtFinSF1','BsmtFinSF2','BsmtUnfSF','TotalBsmtSF_new'], axis=1, inplace=True)"
   ]
  },
  {
   "cell_type": "code",
   "execution_count": 16,
   "metadata": {},
   "outputs": [
    {
     "data": {
      "text/html": [
       "<div>\n",
       "<style scoped>\n",
       "    .dataframe tbody tr th:only-of-type {\n",
       "        vertical-align: middle;\n",
       "    }\n",
       "\n",
       "    .dataframe tbody tr th {\n",
       "        vertical-align: top;\n",
       "    }\n",
       "\n",
       "    .dataframe thead th {\n",
       "        text-align: right;\n",
       "    }\n",
       "</style>\n",
       "<table border=\"1\" class=\"dataframe\">\n",
       "  <thead>\n",
       "    <tr style=\"text-align: right;\">\n",
       "      <th></th>\n",
       "      <th>Alley</th>\n",
       "      <th>BedroomAbvGr</th>\n",
       "      <th>BldgType</th>\n",
       "      <th>BsmtCond</th>\n",
       "      <th>BsmtExposure</th>\n",
       "      <th>BsmtFinType1</th>\n",
       "      <th>BsmtFinType2</th>\n",
       "      <th>BsmtFullBath</th>\n",
       "      <th>BsmtHalfBath</th>\n",
       "      <th>BsmtQual</th>\n",
       "      <th>...</th>\n",
       "      <th>RoofStyle</th>\n",
       "      <th>SaleCondition</th>\n",
       "      <th>SaleType</th>\n",
       "      <th>ScreenPorch</th>\n",
       "      <th>TotRmsAbvGrd</th>\n",
       "      <th>WoodDeckSF</th>\n",
       "      <th>YearBuilt</th>\n",
       "      <th>YearRemodAdd</th>\n",
       "      <th>YrSold</th>\n",
       "      <th>TotalSF</th>\n",
       "    </tr>\n",
       "  </thead>\n",
       "  <tbody>\n",
       "    <tr>\n",
       "      <th>0</th>\n",
       "      <td>None</td>\n",
       "      <td>3</td>\n",
       "      <td>1Fam</td>\n",
       "      <td>3</td>\n",
       "      <td>0</td>\n",
       "      <td>6</td>\n",
       "      <td>Unf</td>\n",
       "      <td>1.0</td>\n",
       "      <td>0.0</td>\n",
       "      <td>4</td>\n",
       "      <td>...</td>\n",
       "      <td>Gable</td>\n",
       "      <td>Normal</td>\n",
       "      <td>WD</td>\n",
       "      <td>0</td>\n",
       "      <td>8</td>\n",
       "      <td>0</td>\n",
       "      <td>2003</td>\n",
       "      <td>2003</td>\n",
       "      <td>2008</td>\n",
       "      <td>2566.0</td>\n",
       "    </tr>\n",
       "    <tr>\n",
       "      <th>1</th>\n",
       "      <td>None</td>\n",
       "      <td>3</td>\n",
       "      <td>1Fam</td>\n",
       "      <td>3</td>\n",
       "      <td>0</td>\n",
       "      <td>5</td>\n",
       "      <td>Unf</td>\n",
       "      <td>0.0</td>\n",
       "      <td>1.0</td>\n",
       "      <td>4</td>\n",
       "      <td>...</td>\n",
       "      <td>Gable</td>\n",
       "      <td>Normal</td>\n",
       "      <td>WD</td>\n",
       "      <td>0</td>\n",
       "      <td>6</td>\n",
       "      <td>298</td>\n",
       "      <td>1976</td>\n",
       "      <td>1976</td>\n",
       "      <td>2007</td>\n",
       "      <td>2524.0</td>\n",
       "    </tr>\n",
       "    <tr>\n",
       "      <th>2</th>\n",
       "      <td>None</td>\n",
       "      <td>3</td>\n",
       "      <td>1Fam</td>\n",
       "      <td>3</td>\n",
       "      <td>0</td>\n",
       "      <td>6</td>\n",
       "      <td>Unf</td>\n",
       "      <td>1.0</td>\n",
       "      <td>0.0</td>\n",
       "      <td>4</td>\n",
       "      <td>...</td>\n",
       "      <td>Gable</td>\n",
       "      <td>Normal</td>\n",
       "      <td>WD</td>\n",
       "      <td>0</td>\n",
       "      <td>6</td>\n",
       "      <td>0</td>\n",
       "      <td>2001</td>\n",
       "      <td>2002</td>\n",
       "      <td>2008</td>\n",
       "      <td>2706.0</td>\n",
       "    </tr>\n",
       "    <tr>\n",
       "      <th>3</th>\n",
       "      <td>None</td>\n",
       "      <td>3</td>\n",
       "      <td>1Fam</td>\n",
       "      <td>4</td>\n",
       "      <td>0</td>\n",
       "      <td>5</td>\n",
       "      <td>Unf</td>\n",
       "      <td>1.0</td>\n",
       "      <td>0.0</td>\n",
       "      <td>3</td>\n",
       "      <td>...</td>\n",
       "      <td>Gable</td>\n",
       "      <td>Abnorml</td>\n",
       "      <td>WD</td>\n",
       "      <td>0</td>\n",
       "      <td>7</td>\n",
       "      <td>0</td>\n",
       "      <td>1915</td>\n",
       "      <td>1970</td>\n",
       "      <td>2006</td>\n",
       "      <td>2473.0</td>\n",
       "    </tr>\n",
       "    <tr>\n",
       "      <th>4</th>\n",
       "      <td>None</td>\n",
       "      <td>4</td>\n",
       "      <td>1Fam</td>\n",
       "      <td>3</td>\n",
       "      <td>0</td>\n",
       "      <td>6</td>\n",
       "      <td>Unf</td>\n",
       "      <td>1.0</td>\n",
       "      <td>0.0</td>\n",
       "      <td>4</td>\n",
       "      <td>...</td>\n",
       "      <td>Gable</td>\n",
       "      <td>Normal</td>\n",
       "      <td>WD</td>\n",
       "      <td>0</td>\n",
       "      <td>9</td>\n",
       "      <td>192</td>\n",
       "      <td>2000</td>\n",
       "      <td>2000</td>\n",
       "      <td>2008</td>\n",
       "      <td>3343.0</td>\n",
       "    </tr>\n",
       "  </tbody>\n",
       "</table>\n",
       "<p>5 rows × 65 columns</p>\n",
       "</div>"
      ],
      "text/plain": [
       "  Alley  BedroomAbvGr BldgType  BsmtCond  BsmtExposure  BsmtFinType1  \\\n",
       "0  None             3     1Fam         3             0             6   \n",
       "1  None             3     1Fam         3             0             5   \n",
       "2  None             3     1Fam         3             0             6   \n",
       "3  None             3     1Fam         4             0             5   \n",
       "4  None             4     1Fam         3             0             6   \n",
       "\n",
       "  BsmtFinType2  BsmtFullBath  BsmtHalfBath  BsmtQual   ...    RoofStyle  \\\n",
       "0          Unf           1.0           0.0         4   ...        Gable   \n",
       "1          Unf           0.0           1.0         4   ...        Gable   \n",
       "2          Unf           1.0           0.0         4   ...        Gable   \n",
       "3          Unf           1.0           0.0         3   ...        Gable   \n",
       "4          Unf           1.0           0.0         4   ...        Gable   \n",
       "\n",
       "  SaleCondition  SaleType  ScreenPorch  TotRmsAbvGrd  WoodDeckSF YearBuilt  \\\n",
       "0        Normal        WD            0             8           0      2003   \n",
       "1        Normal        WD            0             6         298      1976   \n",
       "2        Normal        WD            0             6           0      2001   \n",
       "3       Abnorml        WD            0             7           0      1915   \n",
       "4        Normal        WD            0             9         192      2000   \n",
       "\n",
       "  YearRemodAdd  YrSold  TotalSF  \n",
       "0         2003    2008   2566.0  \n",
       "1         1976    2007   2524.0  \n",
       "2         2002    2008   2706.0  \n",
       "3         1970    2006   2473.0  \n",
       "4         2000    2008   3343.0  \n",
       "\n",
       "[5 rows x 65 columns]"
      ]
     },
     "execution_count": 16,
     "metadata": {},
     "output_type": "execute_result"
    }
   ],
   "source": [
    "#get total square footage of house\n",
    "clean_data['TotalSF'] = all_data['TotalBsmtSF'] + clean_data['1stFlrSF'] + clean_data['2ndFlrSF']\n",
    "clean_data.drop(['TotalBsmtSF','1stFlrSF','2ndFlrSF'], axis=1, inplace=True)\n",
    "clean_data.head()"
   ]
  },
  {
   "cell_type": "code",
   "execution_count": 71,
   "metadata": {},
   "outputs": [],
   "source": [
    "all_dummy = pd.get_dummies(clean_data, drop_first = True)\n",
    "dum2 = all_dummy.copy()"
   ]
  },
  {
   "cell_type": "code",
   "execution_count": null,
   "metadata": {},
   "outputs": [],
   "source": [
    "#alternative to knn. grouping by neighborhood. same neighborhood similar lotfrontage.\n",
    "\n",
    "#all_data[\"LotFrontage\"] = all_data.groupby(\"Neighborhood\")[\"LotFrontage\"].transform(lambda x: x.fillna(x.median()))"
   ]
  },
  {
   "cell_type": "code",
   "execution_count": 72,
   "metadata": {},
   "outputs": [
    {
     "name": "stdout",
     "output_type": "stream",
     "text": [
      "Imputing row 1/2917 with 0 missing, elapsed time: 0.771\n",
      "Imputing row 101/2917 with 1 missing, elapsed time: 0.771\n",
      "Imputing row 201/2917 with 0 missing, elapsed time: 0.772\n",
      "Imputing row 301/2917 with 0 missing, elapsed time: 0.772\n",
      "Imputing row 401/2917 with 0 missing, elapsed time: 0.772\n",
      "Imputing row 501/2917 with 0 missing, elapsed time: 0.773\n",
      "Imputing row 601/2917 with 0 missing, elapsed time: 0.773\n",
      "Imputing row 701/2917 with 0 missing, elapsed time: 0.773\n",
      "Imputing row 801/2917 with 0 missing, elapsed time: 0.774\n",
      "Imputing row 901/2917 with 0 missing, elapsed time: 0.774\n",
      "Imputing row 1001/2917 with 0 missing, elapsed time: 0.775\n",
      "Imputing row 1101/2917 with 0 missing, elapsed time: 0.776\n",
      "Imputing row 1201/2917 with 0 missing, elapsed time: 0.776\n",
      "Imputing row 1301/2917 with 0 missing, elapsed time: 0.776\n",
      "Imputing row 1401/2917 with 0 missing, elapsed time: 0.777\n",
      "Imputing row 1501/2917 with 0 missing, elapsed time: 0.777\n",
      "Imputing row 1601/2917 with 0 missing, elapsed time: 0.778\n",
      "Imputing row 1701/2917 with 0 missing, elapsed time: 0.778\n",
      "Imputing row 1801/2917 with 0 missing, elapsed time: 0.778\n",
      "Imputing row 1901/2917 with 1 missing, elapsed time: 0.779\n",
      "Imputing row 2001/2917 with 0 missing, elapsed time: 0.779\n",
      "Imputing row 2101/2917 with 0 missing, elapsed time: 0.780\n",
      "Imputing row 2201/2917 with 1 missing, elapsed time: 0.780\n",
      "Imputing row 2301/2917 with 0 missing, elapsed time: 0.781\n",
      "Imputing row 2401/2917 with 0 missing, elapsed time: 0.781\n",
      "Imputing row 2501/2917 with 0 missing, elapsed time: 0.782\n",
      "Imputing row 2601/2917 with 1 missing, elapsed time: 0.782\n",
      "Imputing row 2701/2917 with 0 missing, elapsed time: 0.783\n",
      "Imputing row 2801/2917 with 0 missing, elapsed time: 0.783\n",
      "Imputing row 2901/2917 with 0 missing, elapsed time: 0.783\n",
      "[KNN] Warning: 486/2917 still missing after imputation, replacing with 0\n"
     ]
    }
   ],
   "source": [
    "from fancyimpute  import KNN\n",
    "all_dummy[['LotFrontage']] = pd.DataFrame(KNN(k=54).complete(all_dummy[['LotFrontage']])).as_matrix()"
   ]
  },
  {
   "cell_type": "code",
   "execution_count": 73,
   "metadata": {},
   "outputs": [],
   "source": [
    "#dum2[['LotFrontage']] = pd.DataFrame(KNN(k=54).complete(dum2[['LotFrontage']])).as_matrix()"
   ]
  },
  {
   "cell_type": "code",
   "execution_count": 74,
   "metadata": {},
   "outputs": [
    {
     "data": {
      "text/plain": [
       "(2917, 176)"
      ]
     },
     "execution_count": 74,
     "metadata": {},
     "output_type": "execute_result"
    }
   ],
   "source": [
    "#fill in missing value for GarageYr\n",
    "all_dummy['GarageYrBlt'] = all_dummy['GarageYrBlt'].fillna(0)\n",
    "all_dummy.loc[all_dummy['GarageYrBlt']>0, 'GarageYrBlt']=all_dummy['GarageYrBlt']-all_dummy['YearBuilt']\n",
    "all_dummy.shape"
   ]
  },
  {
   "cell_type": "code",
   "execution_count": 75,
   "metadata": {},
   "outputs": [
    {
     "data": {
      "text/plain": [
       "Index([], dtype='object')"
      ]
     },
     "execution_count": 75,
     "metadata": {},
     "output_type": "execute_result"
    }
   ],
   "source": [
    "missing = pd.DataFrame(all_dummy.isnull().sum().sort_values(ascending=False))\n",
    "missing[missing[0]!=0].index"
   ]
  },
  {
   "cell_type": "markdown",
   "metadata": {},
   "source": [
    "** Splitting back to test and train**"
   ]
  },
  {
   "cell_type": "code",
   "execution_count": 76,
   "metadata": {},
   "outputs": [
    {
     "name": "stdout",
     "output_type": "stream",
     "text": [
      "(1459, 176)\n",
      "(1458, 177)\n"
     ]
    }
   ],
   "source": [
    "#ntrain = htrain.shape[0]\n",
    "#ntest = htest.shape[0]\n",
    "#y_train = htrain.SalePrice.values\n",
    "new_train = all_dummy[:ntrain]\n",
    "new_test = all_dummy[:ntest]\n",
    "y_train =pd.DataFrame(y_train)\n",
    "y_train.columns = [\"SalePrice\"]\n",
    "\n",
    "new_train = new_train.merge(y_train, how = \"inner\", right_index = True, left_index = True)\n",
    "print(new_test.shape)\n",
    "print(new_train.shape)"
   ]
  },
  {
   "cell_type": "code",
   "execution_count": 77,
   "metadata": {},
   "outputs": [],
   "source": [
    "#saving then new data frames as csv\n",
    "new_train.to_csv('NewTrain.csv', sep=',')\n",
    "new_test.to_csv('NewTest.csv', sep=',')"
   ]
  },
  {
   "cell_type": "code",
   "execution_count": null,
   "metadata": {},
   "outputs": [],
   "source": []
  }
 ],
 "metadata": {
  "kernelspec": {
   "display_name": "Python 3",
   "language": "python",
   "name": "python3"
  },
  "language_info": {
   "codemirror_mode": {
    "name": "ipython",
    "version": 3
   },
   "file_extension": ".py",
   "mimetype": "text/x-python",
   "name": "python",
   "nbconvert_exporter": "python",
   "pygments_lexer": "ipython3",
   "version": "3.6.4"
  }
 },
 "nbformat": 4,
 "nbformat_minor": 2
}
